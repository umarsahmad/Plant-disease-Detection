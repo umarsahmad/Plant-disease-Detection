{
 "cells": [
  {
   "cell_type": "markdown",
   "metadata": {
    "id": "4eBi8TwmBFPV"
   },
   "source": [
    "We created a CNN to identify the disease a plant is suffering from. A classification model including different layers, chosing hyperparameters, building, training and testing the model. Tf and Keras are used."
   ]
  },
  {
   "cell_type": "code",
   "execution_count": null,
   "metadata": {
    "id": "NiCBzlhQBoOl"
   },
   "outputs": [],
   "source": [
    "from google.colab import drive #to load data directly from our drive !! We need dataset for this program so just see the logic and code.\n",
    "\n",
    "#this will prompt for authorization\n",
    "drive.mount('/content/drive')"
   ]
  },
  {
   "cell_type": "code",
   "execution_count": null,
   "metadata": {
    "id": "IfTSOCLYBx6k"
   },
   "outputs": [],
   "source": [
    " #locate the drive file and check if its done\n",
    " !ls \"/content/drive/My Drive\""
   ]
  },
  {
   "cell_type": "code",
   "execution_count": null,
   "metadata": {
    "id": "TW9sdrApCIZs"
   },
   "outputs": [],
   "source": [
    "import numpy as np\n",
    "import pandas as pd\n",
    "import matplotlib.pyplot as plt\n",
    "from matplotlib.image import imread\n",
    "import cv2\n",
    "import random\n",
    "import os\n",
    "from os import listdir\n",
    "from PIL import Image\n",
    "from sklearn.preprocessing import label_binarize, LabelBinarizer\n",
    "from keras.preprocessing import image\n",
    "from keras.preprocessing.image import img_to_array, array_to_img\n",
    "from keras.optimizers import Adam\n",
    "from keras.models import Sequential\n",
    "from keras.layers import Conv2D, MaxPooling2D\n",
    "from keras.layers import Activation, Flatten, Dropout, Dense\n",
    "from sklearn.model_selection import train_test_split\n",
    "from keras.models import model_from_json\n",
    "from keras.utils import to_categorical\n"
   ]
  },
  {
   "cell_type": "code",
   "execution_count": null,
   "metadata": {
    "id": "VCSOcsnBDaoV"
   },
   "outputs": [],
   "source": [
    "#Plottinng 12 images to check dataset\n",
    "plt.figure(figsize=(12,12))\n",
    "path = \"/content/drive/My Drive/Plant_image/Potato__Early_blight\"\n",
    "for i in range(1,17):\n",
    "  plt.subplot(4,4,i)\n",
    "  plt.tight_layout()\n",
    "  rand_img = imread(path +'/'+random.choice(sorted(os.listdir(path))))\n",
    "  plt.imshow(rand_img)\n",
    "  plt.xlabel(rand_img.shape[1], fontsize = 10) #width of image\n",
    "  plt.ylabel(rand_img.shape[0], fontsize = 10) #height of image\n"
   ]
  },
  {
   "cell_type": "code",
   "execution_count": null,
   "metadata": {
    "id": "g9c3A9yQEkUJ"
   },
   "outputs": [],
   "source": [
    "#converting image to array coz we will be normalizing our data\n",
    "def convert_image_to_array(image_dir):\n",
    "  try:\n",
    "    image = cv2.imread(image_dir)\n",
    "    if image is not None:\n",
    "      image = cv2.resize(image, (256,256))\n",
    "      #image = cv2.cvtColor(image, cv2.COLOR_BGR2GRAY)\n",
    "      return img_to_array(image)\n",
    "    \n",
    "    else:\n",
    "      return np,array([])\n",
    "  except Exception as e:\n",
    "    print(f\"Error: {e}\")\n",
    "    return None"
   ]
  },
  {
   "cell_type": "code",
   "execution_count": null,
   "metadata": {
    "id": "YvWDIlguFanj"
   },
   "outputs": [],
   "source": [
    "dir=\"/content/drive/My Drive/Plant_image\"\n",
    "root_dir = listdir(dir)\n",
    "image_list, label_list = [], []\n",
    "all_labels = ['Corn-Common-rust', 'Potato-Early-Blight', 'Tomato-Bacterial-spot']\n",
    "binary_labels = [0,1,2]\n",
    "temp = -1\n",
    "\n",
    "#reading and converting all images to numpy array\n",
    "for directoy in root_dir:\n",
    "  plant_image_list = listdir(f\"{dir}/{directory}\")\n",
    "  temp+=1\n",
    "  for files in plant_image_list:\n",
    "    image_path = f\"{dir}/{directory}/{files}\"\n",
    "    image_list.append(convert_image_to_array(image_path))\n",
    "    label_list.append(binary_labels[temp])"
   ]
  },
  {
   "cell_type": "code",
   "execution_count": null,
   "metadata": {
    "id": "_wLLajCbG3wu"
   },
   "outputs": [],
   "source": [
    "#visualize the number of class count, to see if the data is balanced or not\n",
    "label_counts = pd.DataFrame(label_list).value_counts()\n",
    "label_counts.head()"
   ]
  },
  {
   "cell_type": "code",
   "execution_count": null,
   "metadata": {
    "id": "O5jyr-yJHNLF"
   },
   "outputs": [],
   "source": [
    "# observe shape of the image and total number of images which is the length of the label list only\n",
    "image_list[0].shape\n",
    "\n",
    "label_list = np.array(label_list)\n",
    "label_list.shape"
   ]
  },
  {
   "cell_type": "code",
   "execution_count": null,
   "metadata": {
    "id": "Wq8EKQTIHZ_4"
   },
   "outputs": [],
   "source": [
    "x_train, x_test, y_train, y_test = train_test_split(image_list, label_list, test_size=0.2, random_size=10)"
   ]
  },
  {
   "cell_type": "code",
   "execution_count": null,
   "metadata": {
    "id": "BdZ0nCzSILNE"
   },
   "outputs": [],
   "source": [
    "#normalize the dataset of our images. As pixel values ranges from 0 to 255 so we will divide by 255 to normalize them to bw 0 and 1\n",
    "x_train = np.array(x_train, dtype=np.float16) / 255.0\n",
    "x_test = np.array(x_test, dtype=np.float16) / 255.0\n",
    "x_train = x_train.reshape(-1, 256, 256, 3)\n",
    "x_test = x_test.reshape(-1, 256, 256, 3)"
   ]
  },
  {
   "cell_type": "code",
   "execution_count": null,
   "metadata": {
    "id": "n3Tmt9d9IsGO"
   },
   "outputs": [],
   "source": [
    "y_train = to_categorical(y_train)\n",
    "y_test = to_categorical(y_test)"
   ]
  },
  {
   "cell_type": "code",
   "execution_count": null,
   "metadata": {
    "id": "7gd9czCkJKwq"
   },
   "outputs": [],
   "source": [
    "cnn = Sequential()\n",
    "cnn.add(Conv2D(32, (3,3), activation='relu', padding=\"same\", input_shape=(256,256,3)))\n",
    "cnn.add(MaxPooling(pool_size=(3,3)))\n",
    "cnn.add(Conv2D(64, (3,3), activation='relu', padding=\"same\")\n",
    "cnn.add(MaxPooling(pool_size=(2,2)))\n",
    "cnn.add(Flatten())\n",
    "cnn.add(Dense(64, activation='relu'))\n",
    "cnn.add(Dense(3, activation='softmax'))\n",
    "cnn.summary()\n",
    "\n",
    "#Conv2D creates a convolutional kernel that is convolved with the input layer to produce the output tensor.\n",
    "#maxpooling is a downsampling technique\n",
    "#Dense layers gives the output as a dot product of input and the kernel"
   ]
  },
  {
   "cell_type": "code",
   "execution_count": null,
   "metadata": {
    "id": "4k-R0n_MrCes"
   },
   "outputs": [],
   "source": [
    "cnn.compile(optimizer=Adam(0.0001), loss=\"categorical_crossentropy\", metrics=['accuracy'])"
   ]
  },
  {
   "cell_type": "code",
   "execution_count": null,
   "metadata": {
    "id": "J9eW4VUVrZ44"
   },
   "outputs": [],
   "source": [
    "#data spliting into training and validation\n",
    "x_train, x_val, y_train, y_val = train_test_split(x_train, y_train, test_size=0.2)"
   ]
  },
  {
   "cell_type": "code",
   "execution_count": null,
   "metadata": {
    "id": "H0F78b0Er1UE"
   },
   "outputs": [],
   "source": [
    "#training the model\n",
    "r = cnn.fit(x_train, y_train, epochs=50, batch_size=128, validation_data = (x_val, y_val))\n",
    "#training and validation accuracy tell the performance of our model"
   ]
  },
  {
   "cell_type": "code",
   "execution_count": null,
   "metadata": {
    "id": "lLBknrt5shGh"
   },
   "outputs": [],
   "source": [
    "#Saving the model using different techniques\n",
    "cnn.save(\"/content/drive/My Drive/plant_disease.h5\")\n",
    "\n",
    "#serialize model to json\n",
    "json_model = cnn.to_json()\n",
    "#save model using json file\n",
    "with open('/content/drive/My Drive/plant_model.json', 'w') as json_file:\n",
    "  json_file.write(json_model)\n",
    "\n",
    "#saving the weights if the model\n",
    "cnn.save_weights(\"/content/drive/My Drive/plant_model_weights.h5\")"
   ]
  },
  {
   "cell_type": "code",
   "execution_count": null,
   "metadata": {
    "id": "XptedVFStzCL"
   },
   "outputs": [],
   "source": [
    "#plot the training history and accuracy of the model for the training history\n",
    "plt.figure(figsize=(12,5))\n",
    "plt.plot(r.history['accuracy'], color='r')\n",
    "plt.plot(r.history['val_accuracy'], color='b')\n",
    "plt.title('Model Accuracy')\n",
    "plt.xlabel('Epoch')\n",
    "plt.ylabel('Accuracy')\n",
    "plt.legend(['train', 'val'])\n",
    "plt.show()\n"
   ]
  },
  {
   "cell_type": "code",
   "execution_count": null,
   "metadata": {
    "id": "c9jJF1uou3oB"
   },
   "outputs": [],
   "source": [
    "#evaluating the accuracy of the model\n",
    "print(\"Calculating the accuracy\")\n",
    "scores = cnn.evaluate(x_test, y_test)\n",
    "print(f\"Test Accuracy: {score[1]*100}\")"
   ]
  },
  {
   "cell_type": "code",
   "execution_count": null,
   "metadata": {
    "id": "xwZBuo3yvxCJ"
   },
   "outputs": [],
   "source": [
    "#now predicting on the test dataset \n",
    "y_pred = cnn.predict(x_test)"
   ]
  },
  {
   "cell_type": "code",
   "execution_count": null,
   "metadata": {
    "id": "FVb9fUxuwD24"
   },
   "outputs": [],
   "source": [
    "#plotting test images just to compare\n",
    "img = array_to_img(x_test[10])\n",
    "img"
   ]
  },
  {
   "cell_type": "code",
   "execution_count": null,
   "metadata": {
    "id": "Tjmb78n-wOpJ"
   },
   "outputs": [],
   "source": [
    "#Finding argmax or max value from the prediction list and comparing original and predictes\n",
    "print(\"Originally: \", all_labels[np.argmax(y_test[10])])\n",
    "print(\"Predicted: \", all_labels[np.argmax(y_pred[10])])\n"
   ]
  },
  {
   "cell_type": "code",
   "execution_count": null,
   "metadata": {
    "id": "84nt_DnvJK-D"
   },
   "outputs": [],
   "source": []
  }
 ],
 "metadata": {
  "colab": {
   "authorship_tag": "ABX9TyP5ehWXQ89OF8aOLjcffbvK",
   "provenance": []
  },
  "kernelspec": {
   "display_name": "Python 3 (ipykernel)",
   "language": "python",
   "name": "python3"
  },
  "language_info": {
   "codemirror_mode": {
    "name": "ipython",
    "version": 3
   },
   "file_extension": ".py",
   "mimetype": "text/x-python",
   "name": "python",
   "nbconvert_exporter": "python",
   "pygments_lexer": "ipython3",
   "version": "3.9.12"
  }
 },
 "nbformat": 4,
 "nbformat_minor": 1
}
